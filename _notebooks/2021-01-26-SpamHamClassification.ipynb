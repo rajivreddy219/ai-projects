{
 "cells": [
  {
   "cell_type": "markdown",
   "metadata": {},
   "source": [
    "# \"Spam-Ham Classification\"\n",
    "> \"Classification of text-messages to Spam or Ham\"\n",
    "\n",
    "- toc: false\n",
    "- branch: master\n",
    "- badges: true\n",
    "- comments: true\n",
    "- categories: [jupyter, pytorch, pytorch-lightning]\n",
    "- hide: false\n",
    "- search_exclude: true"
   ]
  },
  {
   "cell_type": "code",
   "execution_count": 1,
   "metadata": {
    "executionInfo": {
     "elapsed": 5187,
     "status": "ok",
     "timestamp": 1610261050972,
     "user": {
      "displayName": "Rajiv Reddy",
      "photoUrl": "https://lh3.googleusercontent.com/a-/AOh14GipHRT0kY0vpQcHcGh_hLLb5Zp2xxlBKXwTpTqDQX0=s64",
      "userId": "11403598918486346977"
     },
     "user_tz": -330
    },
    "id": "8kEPtG3HBwzR"
   },
   "outputs": [],
   "source": [
    "%%capture\n",
    "!pip install fastai -U"
   ]
  },
  {
   "cell_type": "code",
   "execution_count": 2,
   "metadata": {
    "colab": {
     "base_uri": "https://localhost:8080/"
    },
    "executionInfo": {
     "elapsed": 46286,
     "status": "ok",
     "timestamp": 1610261094690,
     "user": {
      "displayName": "Rajiv Reddy",
      "photoUrl": "https://lh3.googleusercontent.com/a-/AOh14GipHRT0kY0vpQcHcGh_hLLb5Zp2xxlBKXwTpTqDQX0=s64",
      "userId": "11403598918486346977"
     },
     "user_tz": -330
    },
    "id": "nobxNWeLCNRL",
    "outputId": "dee1d49b-dc9b-429a-ab87-4b6c06abaea2"
   },
   "outputs": [
    {
     "name": "stdout",
     "output_type": "stream",
     "text": [
      "Mounted at /content/drive\n"
     ]
    }
   ],
   "source": [
    "from google.colab import drive\n",
    "drive.mount('/content/drive')"
   ]
  },
  {
   "cell_type": "code",
   "execution_count": 7,
   "metadata": {
    "executionInfo": {
     "elapsed": 3691,
     "status": "ok",
     "timestamp": 1610261412601,
     "user": {
      "displayName": "Rajiv Reddy",
      "photoUrl": "https://lh3.googleusercontent.com/a-/AOh14GipHRT0kY0vpQcHcGh_hLLb5Zp2xxlBKXwTpTqDQX0=s64",
      "userId": "11403598918486346977"
     },
     "user_tz": -330
    },
    "id": "igIH2BlrCavq"
   },
   "outputs": [],
   "source": [
    "from fastai.text.all import *\n",
    "import pandas as pd"
   ]
  },
  {
   "cell_type": "code",
   "execution_count": 8,
   "metadata": {
    "colab": {
     "base_uri": "https://localhost:8080/",
     "height": 221
    },
    "executionInfo": {
     "elapsed": 834,
     "status": "ok",
     "timestamp": 1610261414369,
     "user": {
      "displayName": "Rajiv Reddy",
      "photoUrl": "https://lh3.googleusercontent.com/a-/AOh14GipHRT0kY0vpQcHcGh_hLLb5Zp2xxlBKXwTpTqDQX0=s64",
      "userId": "11403598918486346977"
     },
     "user_tz": -330
    },
    "id": "Bq_msWqNC527",
    "outputId": "3ca65207-cfab-4d07-ba2e-e4836dcc9273"
   },
   "outputs": [
    {
     "data": {
      "text/html": [
       "<div>\n",
       "<style scoped>\n",
       "    .dataframe tbody tr th:only-of-type {\n",
       "        vertical-align: middle;\n",
       "    }\n",
       "\n",
       "    .dataframe tbody tr th {\n",
       "        vertical-align: top;\n",
       "    }\n",
       "\n",
       "    .dataframe thead th {\n",
       "        text-align: right;\n",
       "    }\n",
       "</style>\n",
       "<table border=\"1\" class=\"dataframe\">\n",
       "  <thead>\n",
       "    <tr style=\"text-align: right;\">\n",
       "      <th></th>\n",
       "      <th>v1</th>\n",
       "      <th>v2</th>\n",
       "    </tr>\n",
       "  </thead>\n",
       "  <tbody>\n",
       "    <tr>\n",
       "      <th>0</th>\n",
       "      <td>ham</td>\n",
       "      <td>Go until jurong point, crazy.. Available only in bugis n great world la e buffet... Cine there got amore wat...</td>\n",
       "    </tr>\n",
       "    <tr>\n",
       "      <th>1</th>\n",
       "      <td>ham</td>\n",
       "      <td>Ok lar... Joking wif u oni...</td>\n",
       "    </tr>\n",
       "    <tr>\n",
       "      <th>2</th>\n",
       "      <td>spam</td>\n",
       "      <td>Free entry in 2 a wkly comp to win FA Cup final tkts 21st May 2005. Text FA to 87121 to receive entry question(std txt rate)T&amp;C's apply 08452810075over18's</td>\n",
       "    </tr>\n",
       "    <tr>\n",
       "      <th>3</th>\n",
       "      <td>ham</td>\n",
       "      <td>U dun say so early hor... U c already then say...</td>\n",
       "    </tr>\n",
       "    <tr>\n",
       "      <th>4</th>\n",
       "      <td>ham</td>\n",
       "      <td>Nah I don't think he goes to usf, he lives around here though</td>\n",
       "    </tr>\n",
       "  </tbody>\n",
       "</table>\n",
       "</div>"
      ],
      "text/plain": [
       "     v1                                                                                                                                                           v2\n",
       "0   ham                                              Go until jurong point, crazy.. Available only in bugis n great world la e buffet... Cine there got amore wat...\n",
       "1   ham                                                                                                                                Ok lar... Joking wif u oni...\n",
       "2  spam  Free entry in 2 a wkly comp to win FA Cup final tkts 21st May 2005. Text FA to 87121 to receive entry question(std txt rate)T&C's apply 08452810075over18's\n",
       "3   ham                                                                                                            U dun say so early hor... U c already then say...\n",
       "4   ham                                                                                                Nah I don't think he goes to usf, he lives around here though"
      ]
     },
     "execution_count": 8,
     "metadata": {
      "tags": []
     },
     "output_type": "execute_result"
    }
   ],
   "source": [
    "path = '/content/drive/MyDrive/my-datasets/text-classification/spam.csv'\n",
    "df = pd.read_csv(path, encoding='latin-1')\n",
    "df = df[['v1', 'v2']]\n",
    "df.head()"
   ]
  },
  {
   "cell_type": "code",
   "execution_count": 11,
   "metadata": {
    "colab": {
     "base_uri": "https://localhost:8080/",
     "height": 451
    },
    "executionInfo": {
     "elapsed": 8960,
     "status": "ok",
     "timestamp": 1610261716537,
     "user": {
      "displayName": "Rajiv Reddy",
      "photoUrl": "https://lh3.googleusercontent.com/a-/AOh14GipHRT0kY0vpQcHcGh_hLLb5Zp2xxlBKXwTpTqDQX0=s64",
      "userId": "11403598918486346977"
     },
     "user_tz": -330
    },
    "id": "FkHusLMpDVn6",
    "outputId": "5d63ed15-252a-41f6-8290-920e4830f787"
   },
   "outputs": [
    {
     "data": {
      "text/html": [],
      "text/plain": [
       "<IPython.core.display.HTML object>"
      ]
     },
     "metadata": {
      "tags": []
     },
     "output_type": "display_data"
    },
    {
     "name": "stderr",
     "output_type": "stream",
     "text": [
      "/usr/local/lib/python3.6/dist-packages/numpy/core/_asarray.py:83: VisibleDeprecationWarning: Creating an ndarray from ragged nested sequences (which is a list-or-tuple of lists-or-tuples-or ndarrays with different lengths or shapes) is deprecated. If you meant to do this, you must specify 'dtype=object' when creating the ndarray\n",
      "  return array(a, dtype, copy=False, order=order)\n"
     ]
    },
    {
     "data": {
      "text/html": [
       "<table border=\"1\" class=\"dataframe\">\n",
       "  <thead>\n",
       "    <tr style=\"text-align: right;\">\n",
       "      <th></th>\n",
       "      <th>text</th>\n",
       "      <th>category</th>\n",
       "    </tr>\n",
       "  </thead>\n",
       "  <tbody>\n",
       "    <tr>\n",
       "      <th>0</th>\n",
       "      <td>xxbos xxmaj the last thing i ever wanted to do was hurt you . xxmaj and i did n't think it would have . xxmaj you 'd laugh , be embarassed , xxunk the xxunk and keep going . xxmaj but as far as i knew , it was n't even up . xxmaj the fact that you even felt like i would do it to hurt you shows you really do n't know me at all . xxmaj it was xxunk wednesday , but it was n't bad . xxmaj the problem i have with it is you xxup have the time to clean it , but you choose not to . xxmaj you skype , you take pictures , you sleep , you want to go out . i do n't mind a few things here and there , but when you do n't make the bed ,</td>\n",
       "      <td>ham</td>\n",
       "    </tr>\n",
       "    <tr>\n",
       "      <th>1</th>\n",
       "      <td>xxbos xxmaj for me the love should start with xxunk should feel that i need her every time around xxunk should be the first thing which comes in my xxunk would start the day and end it with xxunk should be there every time i xxunk will be then when my every xxunk has her xxunk life should happen around xxunk life will be xxunk to xxunk would cry for xxunk give all my happiness and take all her xxunk will be ready to fight with anyone for xxunk will be in love when i will be doing the xxunk things for xxunk will be when i do n't have to xxunk anyone that my girl is the most beautiful lady on the whole xxunk will always be xxunk xxunk for xxunk will be when i start up making chicken xxunk and end up xxunk xxunk will be the most</td>\n",
       "      <td>ham</td>\n",
       "    </tr>\n",
       "    <tr>\n",
       "      <th>2</th>\n",
       "      <td>xxbos xxmaj how to xxmaj make a girl xxmaj happy ? xxmaj it 's not at all difficult to make girls happy . u only need to be … 1 . a friend 2 . xxmaj xxunk 3 . xxmaj lover 4 . xxmaj xxunk . . . &lt; # &gt; . xxmaj good xxunk &lt; # &gt; . xxmaj xxunk &lt; # &gt; . xxmaj good xxunk &lt; # &gt; . xxmaj very clean &lt; # &gt; . xxmaj xxunk &lt; # &gt; . xxmaj xxunk &lt; # &gt; . xxmaj warm . . . &lt; # &gt; . xxmaj xxunk &lt; # &gt; . xxmaj xxunk &lt; # &gt; . xxmaj true &lt; # &gt; . xxmaj xxunk &lt; # &gt; . xxmaj intelligent . . . &lt; # &gt; . xxmaj xxunk &lt; # &gt; . xxmaj xxunk xxunk &lt; # &gt; . xxmaj xxunk &lt; #</td>\n",
       "      <td>ham</td>\n",
       "    </tr>\n",
       "  </tbody>\n",
       "</table>"
      ],
      "text/plain": [
       "<IPython.core.display.HTML object>"
      ]
     },
     "metadata": {
      "tags": []
     },
     "output_type": "display_data"
    }
   ],
   "source": [
    "dls = TextDataLoaders.from_df(df, text_col=1, label_col=0)\n",
    "dls.show_batch(max_n=3)"
   ]
  },
  {
   "cell_type": "code",
   "execution_count": 14,
   "metadata": {
    "executionInfo": {
     "elapsed": 1480,
     "status": "ok",
     "timestamp": 1610261806131,
     "user": {
      "displayName": "Rajiv Reddy",
      "photoUrl": "https://lh3.googleusercontent.com/a-/AOh14GipHRT0kY0vpQcHcGh_hLLb5Zp2xxlBKXwTpTqDQX0=s64",
      "userId": "11403598918486346977"
     },
     "user_tz": -330
    },
    "id": "94YAksaXEeeU"
   },
   "outputs": [],
   "source": [
    "learn = text_classifier_learner(dls, AWD_LSTM, drop_mult=0.5, seq_len=72, metrics=accuracy)"
   ]
  },
  {
   "cell_type": "code",
   "execution_count": 15,
   "metadata": {
    "colab": {
     "base_uri": "https://localhost:8080/",
     "height": 80
    },
    "executionInfo": {
     "elapsed": 8671,
     "status": "ok",
     "timestamp": 1610261813681,
     "user": {
      "displayName": "Rajiv Reddy",
      "photoUrl": "https://lh3.googleusercontent.com/a-/AOh14GipHRT0kY0vpQcHcGh_hLLb5Zp2xxlBKXwTpTqDQX0=s64",
      "userId": "11403598918486346977"
     },
     "user_tz": -330
    },
    "id": "i6LWgGMRFCYt",
    "outputId": "9a9670a5-8452-478d-8dcc-3b4ab9f5d29f"
   },
   "outputs": [
    {
     "data": {
      "text/html": [
       "<table border=\"1\" class=\"dataframe\">\n",
       "  <thead>\n",
       "    <tr style=\"text-align: left;\">\n",
       "      <th>epoch</th>\n",
       "      <th>train_loss</th>\n",
       "      <th>valid_loss</th>\n",
       "      <th>accuracy</th>\n",
       "      <th>time</th>\n",
       "    </tr>\n",
       "  </thead>\n",
       "  <tbody>\n",
       "    <tr>\n",
       "      <td>0</td>\n",
       "      <td>0.364362</td>\n",
       "      <td>0.107907</td>\n",
       "      <td>0.966786</td>\n",
       "      <td>00:07</td>\n",
       "    </tr>\n",
       "  </tbody>\n",
       "</table>"
      ],
      "text/plain": [
       "<IPython.core.display.HTML object>"
      ]
     },
     "metadata": {
      "tags": []
     },
     "output_type": "display_data"
    }
   ],
   "source": [
    "learn.fit_one_cycle(1, 2e-2)"
   ]
  },
  {
   "cell_type": "code",
   "execution_count": 16,
   "metadata": {
    "colab": {
     "base_uri": "https://localhost:8080/",
     "height": 80
    },
    "executionInfo": {
     "elapsed": 8689,
     "status": "ok",
     "timestamp": 1610261869328,
     "user": {
      "displayName": "Rajiv Reddy",
      "photoUrl": "https://lh3.googleusercontent.com/a-/AOh14GipHRT0kY0vpQcHcGh_hLLb5Zp2xxlBKXwTpTqDQX0=s64",
      "userId": "11403598918486346977"
     },
     "user_tz": -330
    },
    "id": "A26bn_ztFH22",
    "outputId": "dda717a4-3ea9-458a-fc6f-37c3dde1d146"
   },
   "outputs": [
    {
     "data": {
      "text/html": [
       "<table border=\"1\" class=\"dataframe\">\n",
       "  <thead>\n",
       "    <tr style=\"text-align: left;\">\n",
       "      <th>epoch</th>\n",
       "      <th>train_loss</th>\n",
       "      <th>valid_loss</th>\n",
       "      <th>accuracy</th>\n",
       "      <th>time</th>\n",
       "    </tr>\n",
       "  </thead>\n",
       "  <tbody>\n",
       "    <tr>\n",
       "      <td>0</td>\n",
       "      <td>0.191719</td>\n",
       "      <td>0.088832</td>\n",
       "      <td>0.980251</td>\n",
       "      <td>00:07</td>\n",
       "    </tr>\n",
       "  </tbody>\n",
       "</table>"
      ],
      "text/plain": [
       "<IPython.core.display.HTML object>"
      ]
     },
     "metadata": {
      "tags": []
     },
     "output_type": "display_data"
    }
   ],
   "source": [
    "learn.freeze_to(-2)\n",
    "learn.fit_one_cycle(1, slice(1e-2/(2**4), 1e-2))"
   ]
  },
  {
   "cell_type": "code",
   "execution_count": 17,
   "metadata": {
    "colab": {
     "base_uri": "https://localhost:8080/",
     "height": 80
    },
    "executionInfo": {
     "elapsed": 8755,
     "status": "ok",
     "timestamp": 1610261882864,
     "user": {
      "displayName": "Rajiv Reddy",
      "photoUrl": "https://lh3.googleusercontent.com/a-/AOh14GipHRT0kY0vpQcHcGh_hLLb5Zp2xxlBKXwTpTqDQX0=s64",
      "userId": "11403598918486346977"
     },
     "user_tz": -330
    },
    "id": "w0soV8zHFhD7",
    "outputId": "127e8717-7dee-44a4-fd16-664f2ed0d346"
   },
   "outputs": [
    {
     "data": {
      "text/html": [
       "<table border=\"1\" class=\"dataframe\">\n",
       "  <thead>\n",
       "    <tr style=\"text-align: left;\">\n",
       "      <th>epoch</th>\n",
       "      <th>train_loss</th>\n",
       "      <th>valid_loss</th>\n",
       "      <th>accuracy</th>\n",
       "      <th>time</th>\n",
       "    </tr>\n",
       "  </thead>\n",
       "  <tbody>\n",
       "    <tr>\n",
       "      <td>0</td>\n",
       "      <td>0.104729</td>\n",
       "      <td>0.077917</td>\n",
       "      <td>0.978456</td>\n",
       "      <td>00:07</td>\n",
       "    </tr>\n",
       "  </tbody>\n",
       "</table>"
      ],
      "text/plain": [
       "<IPython.core.display.HTML object>"
      ]
     },
     "metadata": {
      "tags": []
     },
     "output_type": "display_data"
    }
   ],
   "source": [
    "learn.freeze_to(-3)\n",
    "learn.fit_one_cycle(1, slice(5e-3/(2**4),5e-3))"
   ]
  },
  {
   "cell_type": "code",
   "execution_count": 18,
   "metadata": {
    "colab": {
     "base_uri": "https://localhost:8080/",
     "height": 111
    },
    "executionInfo": {
     "elapsed": 18188,
     "status": "ok",
     "timestamp": 1610261908306,
     "user": {
      "displayName": "Rajiv Reddy",
      "photoUrl": "https://lh3.googleusercontent.com/a-/AOh14GipHRT0kY0vpQcHcGh_hLLb5Zp2xxlBKXwTpTqDQX0=s64",
      "userId": "11403598918486346977"
     },
     "user_tz": -330
    },
    "id": "zERUp1h8FkVq",
    "outputId": "1524f6f9-2921-4276-fb24-ff2a5b0bb9a1"
   },
   "outputs": [
    {
     "data": {
      "text/html": [
       "<table border=\"1\" class=\"dataframe\">\n",
       "  <thead>\n",
       "    <tr style=\"text-align: left;\">\n",
       "      <th>epoch</th>\n",
       "      <th>train_loss</th>\n",
       "      <th>valid_loss</th>\n",
       "      <th>accuracy</th>\n",
       "      <th>time</th>\n",
       "    </tr>\n",
       "  </thead>\n",
       "  <tbody>\n",
       "    <tr>\n",
       "      <td>0</td>\n",
       "      <td>0.072332</td>\n",
       "      <td>0.053178</td>\n",
       "      <td>0.982047</td>\n",
       "      <td>00:08</td>\n",
       "    </tr>\n",
       "    <tr>\n",
       "      <td>1</td>\n",
       "      <td>0.055072</td>\n",
       "      <td>0.051345</td>\n",
       "      <td>0.985637</td>\n",
       "      <td>00:08</td>\n",
       "    </tr>\n",
       "  </tbody>\n",
       "</table>"
      ],
      "text/plain": [
       "<IPython.core.display.HTML object>"
      ]
     },
     "metadata": {
      "tags": []
     },
     "output_type": "display_data"
    }
   ],
   "source": [
    "learn.unfreeze()\n",
    "learn.fit_one_cycle(2, slice(1e-3/(2**4),1e-3))"
   ]
  },
  {
   "cell_type": "code",
   "execution_count": 28,
   "metadata": {
    "colab": {
     "base_uri": "https://localhost:8080/",
     "height": 34
    },
    "executionInfo": {
     "elapsed": 1147,
     "status": "ok",
     "timestamp": 1610262803854,
     "user": {
      "displayName": "Rajiv Reddy",
      "photoUrl": "https://lh3.googleusercontent.com/a-/AOh14GipHRT0kY0vpQcHcGh_hLLb5Zp2xxlBKXwTpTqDQX0=s64",
      "userId": "11403598918486346977"
     },
     "user_tz": -330
    },
    "id": "_Ndf9f8_FoPq",
    "outputId": "64773c69-3ad9-4ad7-d0e8-3021ec598afc"
   },
   "outputs": [
    {
     "data": {
      "text/html": [],
      "text/plain": [
       "<IPython.core.display.HTML object>"
      ]
     },
     "metadata": {
      "tags": []
     },
     "output_type": "display_data"
    },
    {
     "data": {
      "text/plain": [
       "('ham', tensor(0))"
      ]
     },
     "execution_count": 28,
     "metadata": {
      "tags": []
     },
     "output_type": "execute_result"
    }
   ],
   "source": [
    "text = 'Nah I don\\'t think he goes to usf, he lives around here though'\n",
    "pred, labelid, loss = learn.predict(item=text)\n",
    "pred, labelid"
   ]
  },
  {
   "cell_type": "code",
   "execution_count": null,
   "metadata": {
    "id": "7zo9BOBhIWCv"
   },
   "outputs": [],
   "source": []
  }
 ],
 "metadata": {
  "accelerator": "GPU",
  "colab": {
   "authorship_tag": "ABX9TyOlSBM4yNEFVWO5v2lJlmyT",
   "collapsed_sections": [],
   "name": "Spam-ham.ipynb",
   "provenance": []
  },
  "kernelspec": {
   "display_name": "Python 3",
   "language": "python",
   "name": "python3"
  },
  "language_info": {
   "codemirror_mode": {
    "name": "ipython",
    "version": 3
   },
   "file_extension": ".py",
   "mimetype": "text/x-python",
   "name": "python",
   "nbconvert_exporter": "python",
   "pygments_lexer": "ipython3",
   "version": "3.8.5"
  }
 },
 "nbformat": 4,
 "nbformat_minor": 1
}
