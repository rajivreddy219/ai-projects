{
 "cells": [
  {
   "cell_type": "markdown",
   "metadata": {},
   "source": [
    "# \"MNIST Classification\"\n",
    "> \"Classification of number images in MNIST Dataset\"\n",
    "\n",
    "- toc: false\n",
    "- branch: master\n",
    "- badges: true\n",
    "- comments: true\n",
    "- categories: [jupyter, pytorch, pytorch-lightning]\n",
    "- hide: false\n",
    "- search_exclude: true"
   ]
  },
  {
   "cell_type": "code",
   "execution_count": 1,
   "metadata": {},
   "outputs": [],
   "source": [
    "import torch\n",
    "import torch.nn as nn\n",
    "import torch.nn.functional as F\n",
    "import torch.optim as optim\n",
    "import torchvision\n",
    "from torch.utils.data import DataLoader\n",
    "from torchvision import transforms, datasets\n",
    "import pytorch_lightning as pl\n",
    "from sklearn.model_selection import train_test_split\n",
    "import numpy as np"
   ]
  },
  {
   "cell_type": "code",
   "execution_count": 2,
   "metadata": {},
   "outputs": [],
   "source": [
    "class MNISTDm(pl.LightningDataModule):\n",
    "    def __init__(self):\n",
    "        super().__init__()\n",
    "        self.train_ds = datasets.MNIST('', train=True, download=True, \n",
    "            transform=transforms.Compose([transforms.ToTensor()])\n",
    "        )\n",
    "        \n",
    "        self.val_ds = datasets.MNIST('', train=False, download=True,\n",
    "            transform=transforms.Compose([transforms.ToTensor()])\n",
    "        )\n",
    "        self.val_ds, self.test_ds = train_test_split(self.val_ds, \n",
    "                                                     test_size = 0.2)\n",
    "        \n",
    "        \n",
    "    def train_dataloader(self):\n",
    "        return DataLoader(self.train_ds, batch_size=128, shuffle=True)\n",
    "        \n",
    "    def val_dataloader(self):\n",
    "        return DataLoader(self.val_ds, batch_size=128, shuffle=False)\n",
    "    \n",
    "    def test_dataloader(self):\n",
    "        return DataLoader(self.test_ds, batch_size=128, shuffle=False)\n",
    "    \n",
    "dm = MNISTDm()\n",
    "a = next(iter(dm.test_dataloader()))"
   ]
  },
  {
   "cell_type": "code",
   "execution_count": 3,
   "metadata": {},
   "outputs": [],
   "source": [
    "class ConvNet(pl.LightningModule):\n",
    "    def conv_layer(self, ni, no):\n",
    "        return nn.Sequential(\n",
    "            nn.Conv2d(ni, no, 3),\n",
    "            nn.ReLU(inplace=True),\n",
    "            nn.MaxPool2d(2),\n",
    "            nn.Dropout(0.2)\n",
    "        )\n",
    "    \n",
    "    def __init__(self):\n",
    "        super().__init__()\n",
    "        self.backbone = nn.Sequential(\n",
    "            self.conv_layer(1, 32),\n",
    "            self.conv_layer(32, 64),\n",
    "            self.conv_layer(64, 128),\n",
    "            nn.AdaptiveAvgPool2d(1)\n",
    "        )\n",
    "\n",
    "        self.classifier = nn.Sequential(\n",
    "            nn.Linear(128,64),\n",
    "            nn.ReLU(inplace=True),\n",
    "            nn.Linear(64, 10)\n",
    "        )\n",
    "        self.loss_fn = nn.CrossEntropyLoss()\n",
    "            \n",
    "    def forward(self, x):\n",
    "        x = self.backbone(x)\n",
    "        x = x.view(-1, 128)\n",
    "        x = self.classifier(x)\n",
    "        return x\n",
    "    \n",
    "    def training_step(self, batch, batch_idx):\n",
    "        x, y = batch\n",
    "        y_hat = self(x)\n",
    "        matches = [torch.argmax(i) == j for i,j in zip(y_hat,y)]\n",
    "        acc = matches.count(True)/len(matches)\n",
    "        loss = self.loss_fn(y_hat, y)\n",
    "        self.log('acc', acc, on_step=False, on_epoch=True, prog_bar=True, logger=True)\n",
    "        return {'loss':loss, 'acc':acc}\n",
    "        \n",
    "    def validation_step(self, batch, batch_idx):\n",
    "        x, y = batch\n",
    "        y_hat = self(x)\n",
    "        matches = [torch.argmax(i) == j for i,j in zip(y_hat,y)]\n",
    "        val_acc = matches.count(True)/len(matches)\n",
    "        val_loss = self.loss_fn(y_hat, y)\n",
    "        self.log('val acc', val_acc, on_step=False, on_epoch=True, prog_bar=True, logger=True)\n",
    "        return {'val loss':val_loss, 'val acc':val_acc}\n",
    "        \n",
    "    def configure_optimizers(self):\n",
    "        return optim.Adam(self.parameters(), lr=1e-3)\n",
    "    \n",
    "    def predict(self, test):\n",
    "        if len(test) == 1:\n",
    "            test = test[None]\n",
    "            pred = self(test)\n",
    "            return (torch.argmax(pred)).item()\n",
    "        else:\n",
    "            pred = self(test)\n",
    "            return (torch.argmax(pred, dim=1))\n",
    "        \n",
    "    def evaluate(self, testx, labels):\n",
    "        preds = self.predict(testx)\n",
    "        if isinstance(preds, int):\n",
    "            return (preds==labels).float().item()\n",
    "        else:\n",
    "            matches = (preds==labels)\n",
    "            acc = sum(matches)/len(matches)\n",
    "            return acc.item()"
   ]
  },
  {
   "cell_type": "code",
   "execution_count": 4,
   "metadata": {},
   "outputs": [
    {
     "name": "stderr",
     "output_type": "stream",
     "text": [
      "GPU available: True, used: True\n",
      "TPU available: None, using: 0 TPU cores\n",
      "LOCAL_RANK: 0 - CUDA_VISIBLE_DEVICES: [0]\n",
      "\n",
      "  | Name       | Type             | Params\n",
      "------------------------------------------------\n",
      "0 | backbone   | Sequential       | 92.7 K\n",
      "1 | classifier | Sequential       | 8.9 K \n",
      "2 | loss_fn    | CrossEntropyLoss | 0     \n",
      "------------------------------------------------\n",
      "101 K     Trainable params\n",
      "0         Non-trainable params\n",
      "101 K     Total params\n"
     ]
    },
    {
     "data": {
      "application/vnd.jupyter.widget-view+json": {
       "model_id": "",
       "version_major": 2,
       "version_minor": 0
      },
      "text/plain": [
       "HBox(children=(HTML(value='Validation sanity check'), FloatProgress(value=1.0, bar_style='info', layout=Layout…"
      ]
     },
     "metadata": {},
     "output_type": "display_data"
    },
    {
     "data": {
      "application/vnd.jupyter.widget-view+json": {
       "model_id": "695bb7ff23dd4925ae3509a45b619aba",
       "version_major": 2,
       "version_minor": 0
      },
      "text/plain": [
       "HBox(children=(HTML(value='Training'), FloatProgress(value=1.0, bar_style='info', layout=Layout(flex='2'), max…"
      ]
     },
     "metadata": {},
     "output_type": "display_data"
    },
    {
     "data": {
      "application/vnd.jupyter.widget-view+json": {
       "model_id": "",
       "version_major": 2,
       "version_minor": 0
      },
      "text/plain": [
       "HBox(children=(HTML(value='Validating'), FloatProgress(value=1.0, bar_style='info', layout=Layout(flex='2'), m…"
      ]
     },
     "metadata": {},
     "output_type": "display_data"
    },
    {
     "name": "stdout",
     "output_type": "stream",
     "text": [
      "\n"
     ]
    }
   ],
   "source": [
    "if __name__ == '__main__':\n",
    "    net = ConvNet()\n",
    "    trainer = pl.Trainer(max_epochs=1, gpus=[0])\n",
    "    trainer.fit(net, dm)"
   ]
  },
  {
   "cell_type": "code",
   "execution_count": 7,
   "metadata": {},
   "outputs": [
    {
     "data": {
      "text/plain": [
       "0.9609375"
      ]
     },
     "execution_count": 7,
     "metadata": {},
     "output_type": "execute_result"
    }
   ],
   "source": [
    "testbatch = next(iter(dm.test_dataloader()))\n",
    "batchx, batchy = testbatch\n",
    "rnd = np.random.randint(0,len(batchx))\n",
    "testx = testbatch[0][rnd]\n",
    "testy = testbatch[1][rnd]\n",
    " \n",
    "# pred = net.predict(testx) \n",
    "# acc = net.evaluate(testx, testy)\n",
    "\n",
    "pred = net.predict(batchx)  #Predicting a batch\n",
    "acc = net.evaluate(batchx, batchy)  #Evaluating a batch\n",
    "acc"
   ]
  },
  {
   "cell_type": "code",
   "execution_count": null,
   "metadata": {},
   "outputs": [],
   "source": []
  }
 ],
 "metadata": {
  "kernelspec": {
   "display_name": "Python 3",
   "language": "python",
   "name": "python3"
  },
  "language_info": {
   "codemirror_mode": {
    "name": "ipython",
    "version": 3
   },
   "file_extension": ".py",
   "mimetype": "text/x-python",
   "name": "python",
   "nbconvert_exporter": "python",
   "pygments_lexer": "ipython3",
   "version": "3.8.5"
  }
 },
 "nbformat": 4,
 "nbformat_minor": 4
}
