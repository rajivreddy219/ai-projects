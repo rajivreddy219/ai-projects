{
 "cells": [
  {
   "cell_type": "markdown",
   "metadata": {},
   "source": [
    "# \"Bookrating (Collaborative-Filtering)\"\n",
    "> \"Prediction of tangible books to read using collaborative filtering\"\n",
    "\n",
    "- toc: false\n",
    "- branch: master\n",
    "- badges: true\n",
    "- comments: true\n",
    "- categories: [jupyter, pytorch, pytorch-lightning]\n",
    "- hide: false\n",
    "- search_exclude: true"
   ]
  },
  {
   "cell_type": "code",
   "execution_count": 1,
   "metadata": {
    "executionInfo": {
     "elapsed": 4585,
     "status": "ok",
     "timestamp": 1610286316416,
     "user": {
      "displayName": "Rajiv Reddy",
      "photoUrl": "https://lh3.googleusercontent.com/a-/AOh14GipHRT0kY0vpQcHcGh_hLLb5Zp2xxlBKXwTpTqDQX0=s64",
      "userId": "11403598918486346977"
     },
     "user_tz": -330
    },
    "id": "ffUwwbCa55eu"
   },
   "outputs": [],
   "source": [
    "%%capture\n",
    "!pip install -U fastai"
   ]
  },
  {
   "cell_type": "code",
   "execution_count": 2,
   "metadata": {
    "colab": {
     "base_uri": "https://localhost:8080/"
    },
    "executionInfo": {
     "elapsed": 4574,
     "status": "ok",
     "timestamp": 1610286316418,
     "user": {
      "displayName": "Rajiv Reddy",
      "photoUrl": "https://lh3.googleusercontent.com/a-/AOh14GipHRT0kY0vpQcHcGh_hLLb5Zp2xxlBKXwTpTqDQX0=s64",
      "userId": "11403598918486346977"
     },
     "user_tz": -330
    },
    "id": "9Ej3uaGF6M-y",
    "outputId": "fa5b56ca-a77b-4f75-d41b-88066cd9315d"
   },
   "outputs": [
    {
     "name": "stdout",
     "output_type": "stream",
     "text": [
      "Drive already mounted at /content/drive; to attempt to forcibly remount, call drive.mount(\"/content/drive\", force_remount=True).\n"
     ]
    }
   ],
   "source": [
    "from google.colab import drive\n",
    "drive.mount('/content/drive')"
   ]
  },
  {
   "cell_type": "code",
   "execution_count": 16,
   "metadata": {
    "executionInfo": {
     "elapsed": 1016,
     "status": "ok",
     "timestamp": 1610287388943,
     "user": {
      "displayName": "Rajiv Reddy",
      "photoUrl": "https://lh3.googleusercontent.com/a-/AOh14GipHRT0kY0vpQcHcGh_hLLb5Zp2xxlBKXwTpTqDQX0=s64",
      "userId": "11403598918486346977"
     },
     "user_tz": -330
    },
    "id": "oVtpnXzT58bL"
   },
   "outputs": [],
   "source": [
    "from fastai.collab import *\n",
    "import pandas as pd\n",
    "import torch.nn as nn"
   ]
  },
  {
   "cell_type": "code",
   "execution_count": 4,
   "metadata": {
    "executionInfo": {
     "elapsed": 4962,
     "status": "ok",
     "timestamp": 1610286316836,
     "user": {
      "displayName": "Rajiv Reddy",
      "photoUrl": "https://lh3.googleusercontent.com/a-/AOh14GipHRT0kY0vpQcHcGh_hLLb5Zp2xxlBKXwTpTqDQX0=s64",
      "userId": "11403598918486346977"
     },
     "user_tz": -330
    },
    "id": "EA4Nslh9_IoX"
   },
   "outputs": [],
   "source": [
    "pathr = '/content/drive/MyDrive/my-datasets/collaborative-filtering/BX-Book-Ratings.csv'\n",
    "pathb = '/content/drive/MyDrive/my-datasets/collaborative-filtering/BX-Books.csv'\n",
    "pathu = '/content/drive/MyDrive/my-datasets/collaborative-filtering/BX-Users.csv'"
   ]
  },
  {
   "cell_type": "code",
   "execution_count": 5,
   "metadata": {
    "colab": {
     "base_uri": "https://localhost:8080/"
    },
    "executionInfo": {
     "elapsed": 7714,
     "status": "ok",
     "timestamp": 1610286319601,
     "user": {
      "displayName": "Rajiv Reddy",
      "photoUrl": "https://lh3.googleusercontent.com/a-/AOh14GipHRT0kY0vpQcHcGh_hLLb5Zp2xxlBKXwTpTqDQX0=s64",
      "userId": "11403598918486346977"
     },
     "user_tz": -330
    },
    "id": "Lo6Ogr6o_brs",
    "outputId": "3411a8ff-3a42-4987-e5f3-46fedce8dab1"
   },
   "outputs": [
    {
     "name": "stderr",
     "output_type": "stream",
     "text": [
      "b'Skipping line 6452: expected 8 fields, saw 9\\nSkipping line 43667: expected 8 fields, saw 10\\nSkipping line 51751: expected 8 fields, saw 9\\n'\n",
      "b'Skipping line 92038: expected 8 fields, saw 9\\nSkipping line 104319: expected 8 fields, saw 9\\nSkipping line 121768: expected 8 fields, saw 9\\n'\n",
      "b'Skipping line 144058: expected 8 fields, saw 9\\nSkipping line 150789: expected 8 fields, saw 9\\nSkipping line 157128: expected 8 fields, saw 9\\nSkipping line 180189: expected 8 fields, saw 9\\nSkipping line 185738: expected 8 fields, saw 9\\n'\n",
      "b'Skipping line 209388: expected 8 fields, saw 9\\nSkipping line 220626: expected 8 fields, saw 9\\nSkipping line 227933: expected 8 fields, saw 11\\nSkipping line 228957: expected 8 fields, saw 10\\nSkipping line 245933: expected 8 fields, saw 9\\nSkipping line 251296: expected 8 fields, saw 9\\nSkipping line 259941: expected 8 fields, saw 9\\nSkipping line 261529: expected 8 fields, saw 9\\n'\n",
      "/usr/local/lib/python3.6/dist-packages/IPython/core/interactiveshell.py:2718: DtypeWarning: Columns (3) have mixed types.Specify dtype option on import or set low_memory=False.\n",
      "  interactivity=interactivity, compiler=compiler, result=result)\n"
     ]
    }
   ],
   "source": [
    "dfr = pd.read_csv(pathr, sep=';', error_bad_lines=False, encoding='latin-1')\n",
    "dfb = pd.read_csv(pathb, sep=';', error_bad_lines=False, encoding='latin-1')\n",
    "dfu = pd.read_csv(pathu, sep=';', error_bad_lines=False, encoding='latin-1')"
   ]
  },
  {
   "cell_type": "code",
   "execution_count": 6,
   "metadata": {
    "executionInfo": {
     "elapsed": 7701,
     "status": "ok",
     "timestamp": 1610286319604,
     "user": {
      "displayName": "Rajiv Reddy",
      "photoUrl": "https://lh3.googleusercontent.com/a-/AOh14GipHRT0kY0vpQcHcGh_hLLb5Zp2xxlBKXwTpTqDQX0=s64",
      "userId": "11403598918486346977"
     },
     "user_tz": -330
    },
    "id": "fvmZw_xb_gj0"
   },
   "outputs": [],
   "source": [
    "dfb = dfb[['ISBN','Book-Title','Book-Author','Year-Of-Publication','Publisher']]"
   ]
  },
  {
   "cell_type": "code",
   "execution_count": 7,
   "metadata": {
    "colab": {
     "base_uri": "https://localhost:8080/",
     "height": 204
    },
    "executionInfo": {
     "elapsed": 7689,
     "status": "ok",
     "timestamp": 1610286319606,
     "user": {
      "displayName": "Rajiv Reddy",
      "photoUrl": "https://lh3.googleusercontent.com/a-/AOh14GipHRT0kY0vpQcHcGh_hLLb5Zp2xxlBKXwTpTqDQX0=s64",
      "userId": "11403598918486346977"
     },
     "user_tz": -330
    },
    "id": "VkQwb1uN_jft",
    "outputId": "04fb8620-bd94-4482-df6d-2fcf33c2cc98"
   },
   "outputs": [
    {
     "data": {
      "text/html": [
       "<div>\n",
       "<style scoped>\n",
       "    .dataframe tbody tr th:only-of-type {\n",
       "        vertical-align: middle;\n",
       "    }\n",
       "\n",
       "    .dataframe tbody tr th {\n",
       "        vertical-align: top;\n",
       "    }\n",
       "\n",
       "    .dataframe thead th {\n",
       "        text-align: right;\n",
       "    }\n",
       "</style>\n",
       "<table border=\"1\" class=\"dataframe\">\n",
       "  <thead>\n",
       "    <tr style=\"text-align: right;\">\n",
       "      <th></th>\n",
       "      <th>User-ID</th>\n",
       "      <th>ISBN</th>\n",
       "      <th>Book-Rating</th>\n",
       "    </tr>\n",
       "  </thead>\n",
       "  <tbody>\n",
       "    <tr>\n",
       "      <th>0</th>\n",
       "      <td>276725</td>\n",
       "      <td>034545104X</td>\n",
       "      <td>0</td>\n",
       "    </tr>\n",
       "    <tr>\n",
       "      <th>1</th>\n",
       "      <td>276726</td>\n",
       "      <td>0155061224</td>\n",
       "      <td>5</td>\n",
       "    </tr>\n",
       "    <tr>\n",
       "      <th>2</th>\n",
       "      <td>276727</td>\n",
       "      <td>0446520802</td>\n",
       "      <td>0</td>\n",
       "    </tr>\n",
       "    <tr>\n",
       "      <th>3</th>\n",
       "      <td>276729</td>\n",
       "      <td>052165615X</td>\n",
       "      <td>3</td>\n",
       "    </tr>\n",
       "    <tr>\n",
       "      <th>4</th>\n",
       "      <td>276729</td>\n",
       "      <td>0521795028</td>\n",
       "      <td>6</td>\n",
       "    </tr>\n",
       "  </tbody>\n",
       "</table>\n",
       "</div>"
      ],
      "text/plain": [
       "   User-ID        ISBN  Book-Rating\n",
       "0   276725  034545104X            0\n",
       "1   276726  0155061224            5\n",
       "2   276727  0446520802            0\n",
       "3   276729  052165615X            3\n",
       "4   276729  0521795028            6"
      ]
     },
     "execution_count": 7,
     "metadata": {
      "tags": []
     },
     "output_type": "execute_result"
    }
   ],
   "source": [
    "dfr.head()"
   ]
  },
  {
   "cell_type": "code",
   "execution_count": 8,
   "metadata": {
    "colab": {
     "base_uri": "https://localhost:8080/",
     "height": 323
    },
    "executionInfo": {
     "elapsed": 7677,
     "status": "ok",
     "timestamp": 1610286319607,
     "user": {
      "displayName": "Rajiv Reddy",
      "photoUrl": "https://lh3.googleusercontent.com/a-/AOh14GipHRT0kY0vpQcHcGh_hLLb5Zp2xxlBKXwTpTqDQX0=s64",
      "userId": "11403598918486346977"
     },
     "user_tz": -330
    },
    "id": "63zwuX74_kxE",
    "outputId": "9e3a7ec0-88ad-4010-b31e-c38ac93c89c4"
   },
   "outputs": [
    {
     "data": {
      "text/html": [
       "<div>\n",
       "<style scoped>\n",
       "    .dataframe tbody tr th:only-of-type {\n",
       "        vertical-align: middle;\n",
       "    }\n",
       "\n",
       "    .dataframe tbody tr th {\n",
       "        vertical-align: top;\n",
       "    }\n",
       "\n",
       "    .dataframe thead th {\n",
       "        text-align: right;\n",
       "    }\n",
       "</style>\n",
       "<table border=\"1\" class=\"dataframe\">\n",
       "  <thead>\n",
       "    <tr style=\"text-align: right;\">\n",
       "      <th></th>\n",
       "      <th>ISBN</th>\n",
       "      <th>Book-Title</th>\n",
       "      <th>Book-Author</th>\n",
       "      <th>Year-Of-Publication</th>\n",
       "      <th>Publisher</th>\n",
       "    </tr>\n",
       "  </thead>\n",
       "  <tbody>\n",
       "    <tr>\n",
       "      <th>0</th>\n",
       "      <td>0195153448</td>\n",
       "      <td>Classical Mythology</td>\n",
       "      <td>Mark P. O. Morford</td>\n",
       "      <td>2002</td>\n",
       "      <td>Oxford University Press</td>\n",
       "    </tr>\n",
       "    <tr>\n",
       "      <th>1</th>\n",
       "      <td>0002005018</td>\n",
       "      <td>Clara Callan</td>\n",
       "      <td>Richard Bruce Wright</td>\n",
       "      <td>2001</td>\n",
       "      <td>HarperFlamingo Canada</td>\n",
       "    </tr>\n",
       "    <tr>\n",
       "      <th>2</th>\n",
       "      <td>0060973129</td>\n",
       "      <td>Decision in Normandy</td>\n",
       "      <td>Carlo D'Este</td>\n",
       "      <td>1991</td>\n",
       "      <td>HarperPerennial</td>\n",
       "    </tr>\n",
       "    <tr>\n",
       "      <th>3</th>\n",
       "      <td>0374157065</td>\n",
       "      <td>Flu: The Story of the Great Influenza Pandemic of 1918 and the Search for the Virus That Caused It</td>\n",
       "      <td>Gina Bari Kolata</td>\n",
       "      <td>1999</td>\n",
       "      <td>Farrar Straus Giroux</td>\n",
       "    </tr>\n",
       "    <tr>\n",
       "      <th>4</th>\n",
       "      <td>0393045218</td>\n",
       "      <td>The Mummies of Urumchi</td>\n",
       "      <td>E. J. W. Barber</td>\n",
       "      <td>1999</td>\n",
       "      <td>W. W. Norton &amp;amp; Company</td>\n",
       "    </tr>\n",
       "  </tbody>\n",
       "</table>\n",
       "</div>"
      ],
      "text/plain": [
       "         ISBN  ...                   Publisher\n",
       "0  0195153448  ...     Oxford University Press\n",
       "1  0002005018  ...       HarperFlamingo Canada\n",
       "2  0060973129  ...             HarperPerennial\n",
       "3  0374157065  ...        Farrar Straus Giroux\n",
       "4  0393045218  ...  W. W. Norton &amp; Company\n",
       "\n",
       "[5 rows x 5 columns]"
      ]
     },
     "execution_count": 8,
     "metadata": {
      "tags": []
     },
     "output_type": "execute_result"
    }
   ],
   "source": [
    "dfb.head()"
   ]
  },
  {
   "cell_type": "code",
   "execution_count": 9,
   "metadata": {
    "colab": {
     "base_uri": "https://localhost:8080/",
     "height": 204
    },
    "executionInfo": {
     "elapsed": 7669,
     "status": "ok",
     "timestamp": 1610286319608,
     "user": {
      "displayName": "Rajiv Reddy",
      "photoUrl": "https://lh3.googleusercontent.com/a-/AOh14GipHRT0kY0vpQcHcGh_hLLb5Zp2xxlBKXwTpTqDQX0=s64",
      "userId": "11403598918486346977"
     },
     "user_tz": -330
    },
    "id": "MlDG9oGd_mlg",
    "outputId": "053daa4f-df5a-43c5-daa2-9f763b795e8f"
   },
   "outputs": [
    {
     "data": {
      "text/html": [
       "<div>\n",
       "<style scoped>\n",
       "    .dataframe tbody tr th:only-of-type {\n",
       "        vertical-align: middle;\n",
       "    }\n",
       "\n",
       "    .dataframe tbody tr th {\n",
       "        vertical-align: top;\n",
       "    }\n",
       "\n",
       "    .dataframe thead th {\n",
       "        text-align: right;\n",
       "    }\n",
       "</style>\n",
       "<table border=\"1\" class=\"dataframe\">\n",
       "  <thead>\n",
       "    <tr style=\"text-align: right;\">\n",
       "      <th></th>\n",
       "      <th>User-ID</th>\n",
       "      <th>ISBN</th>\n",
       "      <th>Book-Rating</th>\n",
       "      <th>Book-Title</th>\n",
       "      <th>Book-Author</th>\n",
       "      <th>Year-Of-Publication</th>\n",
       "      <th>Publisher</th>\n",
       "    </tr>\n",
       "  </thead>\n",
       "  <tbody>\n",
       "    <tr>\n",
       "      <th>0</th>\n",
       "      <td>276725</td>\n",
       "      <td>034545104X</td>\n",
       "      <td>0</td>\n",
       "      <td>Flesh Tones: A Novel</td>\n",
       "      <td>M. J. Rose</td>\n",
       "      <td>2002</td>\n",
       "      <td>Ballantine Books</td>\n",
       "    </tr>\n",
       "    <tr>\n",
       "      <th>1</th>\n",
       "      <td>2313</td>\n",
       "      <td>034545104X</td>\n",
       "      <td>5</td>\n",
       "      <td>Flesh Tones: A Novel</td>\n",
       "      <td>M. J. Rose</td>\n",
       "      <td>2002</td>\n",
       "      <td>Ballantine Books</td>\n",
       "    </tr>\n",
       "    <tr>\n",
       "      <th>2</th>\n",
       "      <td>6543</td>\n",
       "      <td>034545104X</td>\n",
       "      <td>0</td>\n",
       "      <td>Flesh Tones: A Novel</td>\n",
       "      <td>M. J. Rose</td>\n",
       "      <td>2002</td>\n",
       "      <td>Ballantine Books</td>\n",
       "    </tr>\n",
       "    <tr>\n",
       "      <th>3</th>\n",
       "      <td>8680</td>\n",
       "      <td>034545104X</td>\n",
       "      <td>5</td>\n",
       "      <td>Flesh Tones: A Novel</td>\n",
       "      <td>M. J. Rose</td>\n",
       "      <td>2002</td>\n",
       "      <td>Ballantine Books</td>\n",
       "    </tr>\n",
       "    <tr>\n",
       "      <th>4</th>\n",
       "      <td>10314</td>\n",
       "      <td>034545104X</td>\n",
       "      <td>9</td>\n",
       "      <td>Flesh Tones: A Novel</td>\n",
       "      <td>M. J. Rose</td>\n",
       "      <td>2002</td>\n",
       "      <td>Ballantine Books</td>\n",
       "    </tr>\n",
       "  </tbody>\n",
       "</table>\n",
       "</div>"
      ],
      "text/plain": [
       "   User-ID        ISBN  ...  Year-Of-Publication         Publisher\n",
       "0   276725  034545104X  ...                 2002  Ballantine Books\n",
       "1     2313  034545104X  ...                 2002  Ballantine Books\n",
       "2     6543  034545104X  ...                 2002  Ballantine Books\n",
       "3     8680  034545104X  ...                 2002  Ballantine Books\n",
       "4    10314  034545104X  ...                 2002  Ballantine Books\n",
       "\n",
       "[5 rows x 7 columns]"
      ]
     },
     "execution_count": 9,
     "metadata": {
      "tags": []
     },
     "output_type": "execute_result"
    }
   ],
   "source": [
    "df = dfr.merge(dfb)\n",
    "df.head()"
   ]
  },
  {
   "cell_type": "code",
   "execution_count": 10,
   "metadata": {
    "colab": {
     "base_uri": "https://localhost:8080/",
     "height": 359
    },
    "executionInfo": {
     "elapsed": 22101,
     "status": "ok",
     "timestamp": 1610286334058,
     "user": {
      "displayName": "Rajiv Reddy",
      "photoUrl": "https://lh3.googleusercontent.com/a-/AOh14GipHRT0kY0vpQcHcGh_hLLb5Zp2xxlBKXwTpTqDQX0=s64",
      "userId": "11403598918486346977"
     },
     "user_tz": -330
    },
    "id": "oex0g_ah_p8j",
    "outputId": "91514306-bcf0-4e66-a579-73fb70222b3a"
   },
   "outputs": [
    {
     "data": {
      "text/html": [
       "<table border=\"1\" class=\"dataframe\">\n",
       "  <thead>\n",
       "    <tr style=\"text-align: right;\">\n",
       "      <th></th>\n",
       "      <th>User-ID</th>\n",
       "      <th>Book-Title</th>\n",
       "      <th>Book-Rating</th>\n",
       "    </tr>\n",
       "  </thead>\n",
       "  <tbody>\n",
       "    <tr>\n",
       "      <th>0</th>\n",
       "      <td>153662</td>\n",
       "      <td>Too Much Too Soon Int</td>\n",
       "      <td>0</td>\n",
       "    </tr>\n",
       "    <tr>\n",
       "      <th>1</th>\n",
       "      <td>93047</td>\n",
       "      <td>Bartholomew and the Oobleck : (Caldecott Honor Book)</td>\n",
       "      <td>9</td>\n",
       "    </tr>\n",
       "    <tr>\n",
       "      <th>2</th>\n",
       "      <td>25008</td>\n",
       "      <td>The Talented Mr. Ripley (Vintage Crime/Black Lizard)</td>\n",
       "      <td>0</td>\n",
       "    </tr>\n",
       "    <tr>\n",
       "      <th>3</th>\n",
       "      <td>172054</td>\n",
       "      <td>The Quilter's Apprentice</td>\n",
       "      <td>0</td>\n",
       "    </tr>\n",
       "    <tr>\n",
       "      <th>4</th>\n",
       "      <td>76942</td>\n",
       "      <td>Carriers</td>\n",
       "      <td>0</td>\n",
       "    </tr>\n",
       "    <tr>\n",
       "      <th>5</th>\n",
       "      <td>15957</td>\n",
       "      <td>Ruth Park's \\Harp in the South\\\" Novels\"</td>\n",
       "      <td>0</td>\n",
       "    </tr>\n",
       "    <tr>\n",
       "      <th>6</th>\n",
       "      <td>247429</td>\n",
       "      <td>Women Pray: Voices Through the Ages, from Many Faiths, Cultures, and Traditions</td>\n",
       "      <td>0</td>\n",
       "    </tr>\n",
       "    <tr>\n",
       "      <th>7</th>\n",
       "      <td>225199</td>\n",
       "      <td>La VÃ?Â©nus d'ille</td>\n",
       "      <td>0</td>\n",
       "    </tr>\n",
       "    <tr>\n",
       "      <th>8</th>\n",
       "      <td>224525</td>\n",
       "      <td>Psychic Tarot: Illustrated with the Aquarian Tarot Deck</td>\n",
       "      <td>10</td>\n",
       "    </tr>\n",
       "    <tr>\n",
       "      <th>9</th>\n",
       "      <td>154176</td>\n",
       "      <td>SPELLBINDER X</td>\n",
       "      <td>0</td>\n",
       "    </tr>\n",
       "  </tbody>\n",
       "</table>"
      ],
      "text/plain": [
       "<IPython.core.display.HTML object>"
      ]
     },
     "metadata": {
      "tags": []
     },
     "output_type": "display_data"
    }
   ],
   "source": [
    "dls = CollabDataLoaders.from_df(df, item_name='Book-Title', bs=64)\n",
    "dls.show_batch()"
   ]
  },
  {
   "cell_type": "code",
   "execution_count": 12,
   "metadata": {
    "executionInfo": {
     "elapsed": 1707,
     "status": "ok",
     "timestamp": 1610286352574,
     "user": {
      "displayName": "Rajiv Reddy",
      "photoUrl": "https://lh3.googleusercontent.com/a-/AOh14GipHRT0kY0vpQcHcGh_hLLb5Zp2xxlBKXwTpTqDQX0=s64",
      "userId": "11403598918486346977"
     },
     "user_tz": -330
    },
    "id": "zuDFBDUm_22w"
   },
   "outputs": [],
   "source": [
    "learn = collab_learner(dls, y_range=(0,5.5), n_factors=50)"
   ]
  },
  {
   "cell_type": "code",
   "execution_count": 13,
   "metadata": {
    "colab": {
     "base_uri": "https://localhost:8080/",
     "height": 204
    },
    "executionInfo": {
     "elapsed": 867102,
     "status": "ok",
     "timestamp": 1610287219835,
     "user": {
      "displayName": "Rajiv Reddy",
      "photoUrl": "https://lh3.googleusercontent.com/a-/AOh14GipHRT0kY0vpQcHcGh_hLLb5Zp2xxlBKXwTpTqDQX0=s64",
      "userId": "11403598918486346977"
     },
     "user_tz": -330
    },
    "id": "wa_-sGM4ACWr",
    "outputId": "32608177-cf56-40c7-ddfd-ff202f15bec7"
   },
   "outputs": [
    {
     "data": {
      "text/html": [
       "<table border=\"1\" class=\"dataframe\">\n",
       "  <thead>\n",
       "    <tr style=\"text-align: left;\">\n",
       "      <th>epoch</th>\n",
       "      <th>train_loss</th>\n",
       "      <th>valid_loss</th>\n",
       "      <th>time</th>\n",
       "    </tr>\n",
       "  </thead>\n",
       "  <tbody>\n",
       "    <tr>\n",
       "      <td>0</td>\n",
       "      <td>13.079836</td>\n",
       "      <td>13.260295</td>\n",
       "      <td>02:53</td>\n",
       "    </tr>\n",
       "    <tr>\n",
       "      <td>1</td>\n",
       "      <td>12.927390</td>\n",
       "      <td>12.971729</td>\n",
       "      <td>02:53</td>\n",
       "    </tr>\n",
       "    <tr>\n",
       "      <td>2</td>\n",
       "      <td>12.637070</td>\n",
       "      <td>12.929997</td>\n",
       "      <td>02:54</td>\n",
       "    </tr>\n",
       "    <tr>\n",
       "      <td>3</td>\n",
       "      <td>12.430797</td>\n",
       "      <td>12.923674</td>\n",
       "      <td>02:52</td>\n",
       "    </tr>\n",
       "    <tr>\n",
       "      <td>4</td>\n",
       "      <td>12.032089</td>\n",
       "      <td>12.930154</td>\n",
       "      <td>02:52</td>\n",
       "    </tr>\n",
       "  </tbody>\n",
       "</table>"
      ],
      "text/plain": [
       "<IPython.core.display.HTML object>"
      ]
     },
     "metadata": {
      "tags": []
     },
     "output_type": "display_data"
    }
   ],
   "source": [
    "learn.fit_one_cycle(5, 2e-3, wd=0.1)"
   ]
  },
  {
   "cell_type": "code",
   "execution_count": 28,
   "metadata": {
    "executionInfo": {
     "elapsed": 1039,
     "status": "ok",
     "timestamp": 1610287538551,
     "user": {
      "displayName": "Rajiv Reddy",
      "photoUrl": "https://lh3.googleusercontent.com/a-/AOh14GipHRT0kY0vpQcHcGh_hLLb5Zp2xxlBKXwTpTqDQX0=s64",
      "userId": "11403598918486346977"
     },
     "user_tz": -330
    },
    "id": "H16E4NFmEFjb"
   },
   "outputs": [],
   "source": [
    "def recommend(book):\n",
    "  movie_factors = learn.model.i_weight.weight\n",
    "  idx = dls.classes['Book-Title'].o2i[book]\n",
    "  dist = nn.CosineSimilarity(dim=1)(movie_factors, movie_factors[idx][None])\n",
    "  indices = dist.argsort(descending=True)[1:6]\n",
    "  return dls.classes['Book-Title'][indices]"
   ]
  },
  {
   "cell_type": "code",
   "execution_count": 47,
   "metadata": {
    "colab": {
     "base_uri": "https://localhost:8080/"
    },
    "executionInfo": {
     "elapsed": 956,
     "status": "ok",
     "timestamp": 1610288390284,
     "user": {
      "displayName": "Rajiv Reddy",
      "photoUrl": "https://lh3.googleusercontent.com/a-/AOh14GipHRT0kY0vpQcHcGh_hLLb5Zp2xxlBKXwTpTqDQX0=s64",
      "userId": "11403598918486346977"
     },
     "user_tz": -330
    },
    "id": "BBjDO9amhvo6",
    "outputId": "37a7cbe1-337e-41a7-ed8f-9457c0beb965"
   },
   "outputs": [
    {
     "name": "stdout",
     "output_type": "stream",
     "text": [
      "Harry Potter and the Goblet of Fire (Book 4)\n",
      "Harry Potter and the Chamber of Secrets (Book 2)\n",
      "The X-Planes: X-1 to X-45: 3rd Edition\n",
      "Sanctuary: Finding Moments of Refuge in the Presence of God\n",
      "Harry Potter and the Sorcerer's Stone (Book 1)\n"
     ]
    }
   ],
   "source": [
    "res = recommend('Harry Potter and the Prisoner of Azkaban (Book 3)')\n",
    "for i in res:\n",
    "  print(i)"
   ]
  },
  {
   "cell_type": "code",
   "execution_count": null,
   "metadata": {
    "id": "IU94rLxNpdew"
   },
   "outputs": [],
   "source": []
  }
 ],
 "metadata": {
  "accelerator": "GPU",
  "colab": {
   "authorship_tag": "ABX9TyMrQpQJyFQyghncvwoC9szu",
   "collapsed_sections": [],
   "name": "Collab-bookrating.ipynb",
   "provenance": []
  },
  "kernelspec": {
   "display_name": "Python 3",
   "language": "python",
   "name": "python3"
  },
  "language_info": {
   "codemirror_mode": {
    "name": "ipython",
    "version": 3
   },
   "file_extension": ".py",
   "mimetype": "text/x-python",
   "name": "python",
   "nbconvert_exporter": "python",
   "pygments_lexer": "ipython3",
   "version": "3.8.5"
  }
 },
 "nbformat": 4,
 "nbformat_minor": 1
}
