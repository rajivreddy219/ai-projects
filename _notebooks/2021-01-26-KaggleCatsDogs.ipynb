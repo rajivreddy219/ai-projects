{
 "cells": [
  {
   "cell_type": "markdown",
   "metadata": {},
   "source": [
    "# \"Kaggle Cats&Dogs\"\n",
    "> \"Classification of images of Kaggle Cats&Dogs dataset\"\n",
    "\n",
    "- toc: false\n",
    "- branch: master\n",
    "- badges: true\n",
    "- comments: true\n",
    "- categories: [jupyter, pytorch, pytorch-lightning]\n",
    "- hide: false\n",
    "- search_exclude: true"
   ]
  },
  {
   "cell_type": "code",
   "execution_count": 1,
   "metadata": {},
   "outputs": [],
   "source": [
    "import torch\n",
    "import torch.nn as nn\n",
    "import torch.nn.functional as F\n",
    "import torch.optim as optim\n",
    "import pytorch_lightning as pl\n",
    "from tqdm import tqdm\n",
    "import os\n",
    "import cv2\n",
    "import numpy as np"
   ]
  },
  {
   "cell_type": "code",
   "execution_count": 2,
   "metadata": {},
   "outputs": [],
   "source": [
    "from sklearn.model_selection import train_test_split\n",
    "from torch.utils.data import Dataset, DataLoader\n",
    "import glob\n",
    "\n",
    "class CatsDogsDS(Dataset):\n",
    "    def __init__(self, files, labels):\n",
    "        super().__init__()\n",
    "        self.files = files\n",
    "        self.labels = labels\n",
    "        \n",
    "    def __getitem__(self, ix):\n",
    "        try:\n",
    "            file = self.files[ix]\n",
    "            label = file.split('\\\\')[-2]\n",
    "            label = self.labels[label]\n",
    "            img = cv2.imread(file, cv2.IMREAD_GRAYSCALE)\n",
    "            img = cv2.resize(img, (50, 50))[None]\n",
    "            img = img/255.\n",
    "            return img, label\n",
    "        except:\n",
    "            return np.zeros((1,50,50)), np.random.randint(2)\n",
    "        \n",
    "    def __len__(self):\n",
    "        return len(self.files)\n",
    "        \n",
    "class CatsDogsDM(pl.LightningDataModule):\n",
    "    def __init__(self, cats_dir, dogs_dir, labels, img_size):\n",
    "        super().__init__()\n",
    "        self.files = glob.glob(cats_dir+'/*.jpg') + glob.glob(dogs_dir+'/*.jpg')\n",
    "        np.random.seed(10)\n",
    "        np.random.shuffle(self.files)\n",
    "        self.trn, self.val = train_test_split(self.files)\n",
    "        self.trn_dataset = CatsDogsDS(self.trn, labels)\n",
    "        self.val_dataset = CatsDogsDS(self.val, labels)\n",
    "        \n",
    "    def train_dataloader(self):\n",
    "        return DataLoader(self.trn_dataset, \n",
    "                          batch_size=64, shuffle=True)\n",
    "        \n",
    "    def val_dataloader(self):\n",
    "        return DataLoader(self.val_dataset, batch_size=64)\n",
    "        \n",
    "\n",
    "IMG_SIZE = 50\n",
    "cats = \"D:\\Study\\kagglecatsanddogs_3367a\\PetImages\\Cat\"\n",
    "dogs = \"D:\\Study\\kagglecatsanddogs_3367a\\PetImages\\Dog\"\n",
    "labels = {'Cat':0, 'Dog':1}\n",
    "    \n",
    "dm = CatsDogsDM(cats, dogs, labels, IMG_SIZE)"
   ]
  },
  {
   "cell_type": "code",
   "execution_count": 3,
   "metadata": {},
   "outputs": [],
   "source": [
    "class Net(pl.LightningModule):\n",
    "    def conv_layer(self, ni, no):\n",
    "        return nn.Sequential(\n",
    "            nn.Conv2d(ni,no,5),\n",
    "            nn.ReLU(inplace=True),\n",
    "            nn.MaxPool2d(2),\n",
    "            nn.Dropout(0.2)\n",
    "        )\n",
    "    \n",
    "    def __init__(self):\n",
    "        super().__init__()\n",
    "        self.backbone = nn.Sequential(\n",
    "            self.conv_layer(1,32),\n",
    "            self.conv_layer(32,64),\n",
    "            self.conv_layer(64,128) # (bs, 128, 2, 2)\n",
    "        )\n",
    "        \n",
    "        self.classifier = nn.Sequential(\n",
    "            nn.Linear(512,512),\n",
    "            nn.ReLU(inplace=True),\n",
    "            nn.Linear(512,2)\n",
    "        )\n",
    "        \n",
    "        self.loss_fn = nn.CrossEntropyLoss()\n",
    "    \n",
    "    def forward(self, x):\n",
    "        x = self.backbone(x)\n",
    "        x = x.view(len(x), -1)\n",
    "        x = self.classifier(x)\n",
    "        return x\n",
    "    \n",
    "    def training_step(self, batch, batch_idx):\n",
    "        x, y = batch\n",
    "        y_hat = self(x.float())\n",
    "        loss = self.loss_fn(y_hat, y)\n",
    "        matches = [torch.argmax(i) == j for i,j in zip(y_hat,y)]\n",
    "        acc = sum(matches)/len(matches)\n",
    "        self.log('acc', acc, on_step=True, on_epoch=True,\n",
    "                prog_bar=True, logger=True)\n",
    "        return {'loss':loss, 'acc': acc}\n",
    "        \n",
    "    def validation_step(self, batch, batch_idx):\n",
    "        x, y = batch\n",
    "        y_hat = self(x.float())\n",
    "        loss = self.loss_fn(y_hat, y)\n",
    "        matches = [torch.argmax(i) == j for i,j in zip(y_hat,y)]\n",
    "        val_acc = sum(matches)/len(matches)\n",
    "        self.log('val_acc', val_acc, on_step=True, on_epoch=True,\n",
    "                prog_bar=True, logger=True)\n",
    "        \n",
    "        return {'val_loss':loss, 'val_acc': val_acc}\n",
    "        \n",
    "    def configure_optimizers(self):\n",
    "        return optim.Adam(self.parameters(), lr=1e-3)\n",
    "        \n",
    "    def predict(self, test):\n",
    "        if test.shape[0] == 1:\n",
    "            test = test[None]\n",
    "            pred = self(test)\n",
    "            return torch.argmax(pred).item()\n",
    "        else:\n",
    "            pred = self(test.float())\n",
    "            return torch.argmax(pred, dim=1)\n",
    "    \n",
    "    def evaluate(self, testx, labels):\n",
    "        preds = self.predict(testx)\n",
    "        if isinstance(preds, int):\n",
    "            return preds==labels\n",
    "        else:\n",
    "            matches = (preds==labels)\n",
    "            acc = sum(matches)/len(matches)\n",
    "            return acc\n",
    "        \n",
    "    def get_progress_bar_dict(self):\n",
    "        tqdm_dict = super().get_progress_bar_dict()\n",
    "        if 'v_num' in tqdm_dict:\n",
    "            del tqdm_dict['v_num']\n",
    "        return tqdm_dict"
   ]
  },
  {
   "cell_type": "code",
   "execution_count": 4,
   "metadata": {},
   "outputs": [
    {
     "name": "stderr",
     "output_type": "stream",
     "text": [
      "GPU available: True, used: True\n",
      "TPU available: None, using: 0 TPU cores\n",
      "LOCAL_RANK: 0 - CUDA_VISIBLE_DEVICES: [0]\n",
      "\n",
      "  | Name       | Type             | Params\n",
      "------------------------------------------------\n",
      "0 | backbone   | Sequential       | 257 K \n",
      "1 | classifier | Sequential       | 263 K \n",
      "2 | loss_fn    | CrossEntropyLoss | 0     \n",
      "------------------------------------------------\n",
      "520 K     Trainable params\n",
      "0         Non-trainable params\n",
      "520 K     Total params\n"
     ]
    },
    {
     "data": {
      "application/vnd.jupyter.widget-view+json": {
       "model_id": "",
       "version_major": 2,
       "version_minor": 0
      },
      "text/plain": [
       "HBox(children=(HTML(value='Validation sanity check'), FloatProgress(value=1.0, bar_style='info', layout=Layout…"
      ]
     },
     "metadata": {},
     "output_type": "display_data"
    },
    {
     "data": {
      "application/vnd.jupyter.widget-view+json": {
       "model_id": "ad5dca1e8ab24cb48119d27da80bcdf5",
       "version_major": 2,
       "version_minor": 0
      },
      "text/plain": [
       "HBox(children=(HTML(value='Training'), FloatProgress(value=1.0, bar_style='info', layout=Layout(flex='2'), max…"
      ]
     },
     "metadata": {},
     "output_type": "display_data"
    },
    {
     "data": {
      "application/vnd.jupyter.widget-view+json": {
       "model_id": "",
       "version_major": 2,
       "version_minor": 0
      },
      "text/plain": [
       "HBox(children=(HTML(value='Validating'), FloatProgress(value=1.0, bar_style='info', layout=Layout(flex='2'), m…"
      ]
     },
     "metadata": {},
     "output_type": "display_data"
    },
    {
     "data": {
      "application/vnd.jupyter.widget-view+json": {
       "model_id": "",
       "version_major": 2,
       "version_minor": 0
      },
      "text/plain": [
       "HBox(children=(HTML(value='Validating'), FloatProgress(value=1.0, bar_style='info', layout=Layout(flex='2'), m…"
      ]
     },
     "metadata": {},
     "output_type": "display_data"
    },
    {
     "data": {
      "application/vnd.jupyter.widget-view+json": {
       "model_id": "",
       "version_major": 2,
       "version_minor": 0
      },
      "text/plain": [
       "HBox(children=(HTML(value='Validating'), FloatProgress(value=1.0, bar_style='info', layout=Layout(flex='2'), m…"
      ]
     },
     "metadata": {},
     "output_type": "display_data"
    },
    {
     "data": {
      "application/vnd.jupyter.widget-view+json": {
       "model_id": "",
       "version_major": 2,
       "version_minor": 0
      },
      "text/plain": [
       "HBox(children=(HTML(value='Validating'), FloatProgress(value=1.0, bar_style='info', layout=Layout(flex='2'), m…"
      ]
     },
     "metadata": {},
     "output_type": "display_data"
    },
    {
     "data": {
      "application/vnd.jupyter.widget-view+json": {
       "model_id": "",
       "version_major": 2,
       "version_minor": 0
      },
      "text/plain": [
       "HBox(children=(HTML(value='Validating'), FloatProgress(value=1.0, bar_style='info', layout=Layout(flex='2'), m…"
      ]
     },
     "metadata": {},
     "output_type": "display_data"
    },
    {
     "name": "stdout",
     "output_type": "stream",
     "text": [
      "\n"
     ]
    }
   ],
   "source": [
    "if __name__ == '__main__':\n",
    "    net = Net()\n",
    "    trainer = pl.Trainer(max_epochs=5, gpus=[0])\n",
    "    trainer.fit(net, dm)"
   ]
  },
  {
   "cell_type": "code",
   "execution_count": 6,
   "metadata": {},
   "outputs": [
    {
     "name": "stdout",
     "output_type": "stream",
     "text": [
      "Accuracy 0.84375\n"
     ]
    }
   ],
   "source": [
    "testset = dm.val_dataset\n",
    "rnd = np.random.randint(0, len(testset))\n",
    "testx = testset[rnd][0]\n",
    "testy = testset[rnd][1]\n",
    "\n",
    "batchset = iter(dm.val_dataloader())\n",
    "batchx, batchy = next(batchset)\n",
    "\n",
    "pred = net.predict(batchx)\n",
    "acc = net.evaluate(batchx, batchy)\n",
    "print(\"Accuracy\", acc.item())"
   ]
  },
  {
   "cell_type": "code",
   "execution_count": null,
   "metadata": {},
   "outputs": [],
   "source": []
  },
  {
   "cell_type": "code",
   "execution_count": null,
   "metadata": {},
   "outputs": [],
   "source": []
  }
 ],
 "metadata": {
  "kernelspec": {
   "display_name": "Python 3",
   "language": "python",
   "name": "python3"
  },
  "language_info": {
   "codemirror_mode": {
    "name": "ipython",
    "version": 3
   },
   "file_extension": ".py",
   "mimetype": "text/x-python",
   "name": "python",
   "nbconvert_exporter": "python",
   "pygments_lexer": "ipython3",
   "version": "3.8.5"
  }
 },
 "nbformat": 4,
 "nbformat_minor": 4
}
